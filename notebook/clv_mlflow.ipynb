{
 "cells": [
  {
   "cell_type": "code",
   "execution_count": 0,
   "metadata": {},
   "outputs": [],
   "source": [
    "# -*- coding: utf-8 -*-\n",
    "import dataiku\n",
    "import pandas as pd, numpy as np\n",
    "from dataiku import pandasutils as pdu\n",
    "import mlflow\n",
    "\n",
    "# Read recipe inputs\n",
    "model = dataiku.Folder(\"custom_rf\")\n",
    "\n",
    "import joblib\n",
    "import io\n",
    "#active_model = dataiku.get_custom_variables()[\"active_model\"]\n",
    "active_model = \"clf.pkl\"\n",
    "EVALUATION_DATASET = \"clv_train_test\"\n",
    "\n",
    "with model.get_download_stream(active_model) as stream:\n",
    "    bs = io.BytesIO(stream.read())\n",
    "    clf = joblib.load(bs)\n",
    "\n",
    "# Write recipe outputs\n",
    "path = dataiku.Folder(\"mlflow_model\").get_path()\n",
    "model_dir = os.path.join(path, active_model)\n",
    "mlflow.sklearn.save_model(clf, model_dir)\n",
    "\n",
    "# Import MLFlow model\n",
    "client = dataiku.api_client()\n",
    "project = client.get_default_project()\n",
    "saved_model = project.create_mlflow_pyfunc_model(\"model\", \"BINARY_CLASSIFICATION\")\n",
    "mlflow_version = saved_model.import_mlflow_version_from_managed_folder(\n",
    "    \"v1\",\n",
    "    \"ojs6BL42\",\n",
    "    active_model,\n",
    "    \"py_38_mlflow\")\n",
    "mlflow_version.set_core_metadata(\"target\", class_labels=['0', '1'], get_features_from_dataset=EVALUATION_DATASET)\n",
    "mlflow_version.evaluate(EVALUATION_DATASET)"
   ]
  }
 ],
 "metadata": {
  "associatedRecipe": "compute_ojs6BL42",
  "createdOn": 1733175536465,
  "creator": "sciaravino",
  "customFields": {},
  "hide_input": false,
  "kernelspec": {
   "display_name": "Python (env py_38_mlflow)",
   "language": "python",
   "name": "py-dku-venv-py_38_mlflow"
  },
  "language_info": {
   "codemirror_mode": {
    "name": "ipython",
    "version": 3
   },
   "file_extension": ".py",
   "mimetype": "text/x-python",
   "name": "python",
   "nbconvert_exporter": "python",
   "pygments_lexer": "ipython3",
   "version": "3.8.17"
  },
  "modifiedBy": "sciaravino",
  "tags": [
   "recipe-editor"
  ],
  "toc": {
   "base_numbering": 1,
   "nav_menu": {},
   "number_sections": true,
   "sideBar": true,
   "skip_h1_title": false,
   "title_cell": "Table of Contents",
   "title_sidebar": "Contents",
   "toc_cell": false,
   "toc_position": {},
   "toc_section_display": true,
   "toc_window_display": false
  }
 },
 "nbformat": 4,
 "nbformat_minor": 1
}
